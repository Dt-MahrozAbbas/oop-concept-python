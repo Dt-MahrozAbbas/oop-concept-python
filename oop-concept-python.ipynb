{
 "cells": [
  {
   "cell_type": "code",
   "execution_count": 1,
   "id": "d8cae7fb",
   "metadata": {},
   "outputs": [],
   "source": [
    "\n",
    "# 1. Encapsulation\n",
    "class Student:\n",
    "    def __init__(self, name, age):\n",
    "        self.__name = name      # private attribute\n",
    "        self.__age = age        # private attribute\n",
    "\n",
    "    def get_info(self):\n",
    "        return f\"Name: {self.__name}, Age: {self.__age}\"\n",
    "\n",
    "    def set_age(self, new_age):\n",
    "        if new_age > 0:\n",
    "            self.__age = new_age"
   ]
  },
  {
   "cell_type": "code",
   "execution_count": 2,
   "id": "8aefcaf4",
   "metadata": {},
   "outputs": [],
   "source": [
    "\n",
    "# 2. Abstraction\n",
    "from abc import ABC, abstractmethod\n",
    "\n",
    "class Animal(ABC):\n",
    "    @abstractmethod\n",
    "    def make_sound(self):\n",
    "        pass\n",
    "\n",
    "class Dog(Animal):\n",
    "    def make_sound(self):\n",
    "        return \"Woof!\""
   ]
  },
  {
   "cell_type": "code",
   "execution_count": 3,
   "id": "e1b8d399",
   "metadata": {},
   "outputs": [],
   "source": [
    "\n",
    "\n",
    "# 3. Inheritance\n",
    "class Person:\n",
    "    def __init__(self, name):\n",
    "        self.name = name\n",
    "\n",
    "    def greet(self):\n",
    "        return f\"Hello, my name is {self.name}\"\n",
    "\n",
    "class Teacher(Person):  # Inherits from Person\n",
    "    def teach(self):\n",
    "        return \"I teach students.\"\n"
   ]
  },
  {
   "cell_type": "code",
   "execution_count": 4,
   "id": "31385f48",
   "metadata": {},
   "outputs": [],
   "source": [
    "\n",
    "\n",
    "# 4. Polymorphism\n",
    "class Bird:\n",
    "    def speak(self):\n",
    "        return \"Chirp!\"\n",
    "\n",
    "class Cat:\n",
    "    def speak(self):\n",
    "        return \"Meow!\"\n",
    "\n",
    "def animal_sound(animal):\n",
    "    return animal.speak()\n"
   ]
  },
  {
   "cell_type": "code",
   "execution_count": 5,
   "id": "1a636a56",
   "metadata": {},
   "outputs": [],
   "source": [
    "\n",
    "\n",
    "# 5. Composition (strong has-a)\n",
    "class Engine:\n",
    "    def start(self):\n",
    "        return \"Engine started.\"\n",
    "    "
   ]
  },
  {
   "cell_type": "code",
   "execution_count": 6,
   "id": "0d5e3e61",
   "metadata": {},
   "outputs": [],
   "source": [
    "\n",
    "\n",
    "\n",
    "class Car:\n",
    "    def __init__(self):\n",
    "        self.engine = Engine()  # Car owns Engine (composition)\n",
    "\n",
    "    def drive(self):\n",
    "        return self.engine.start()"
   ]
  },
  {
   "cell_type": "code",
   "execution_count": 7,
   "id": "ea0d780d",
   "metadata": {},
   "outputs": [],
   "source": [
    "\n",
    "\n",
    "# 6. Aggregation (weak has-a)\n",
    "class Department:\n",
    "    def __init__(self, name):\n",
    "        self.name = name\n",
    "\n",
    "class University:\n",
    "    def __init__(self, departments):\n",
    "        self.departments = departments  # Departments can exist independently\n",
    "\n",
    "    def list_departments(self):\n",
    "        return [d.name for d in self.departments]"
   ]
  },
  {
   "cell_type": "code",
   "execution_count": 8,
   "id": "20692b4e",
   "metadata": {},
   "outputs": [
    {
     "name": "stdout",
     "output_type": "stream",
     "text": [
      "--- Encapsulation ---\n",
      "Name: Ali, Age: 21\n",
      "\n",
      "--- Abstraction ---\n",
      "Woof!\n",
      "\n",
      "--- Inheritance ---\n",
      "Hello, my name is Sara\n",
      "I teach students.\n",
      "\n",
      "--- Polymorphism ---\n",
      "Chirp!\n",
      "Meow!\n",
      "\n",
      "--- Composition ---\n",
      "Engine started.\n",
      "\n",
      "--- Aggregation ---\n",
      "['CS', 'Math']\n"
     ]
    }
   ],
   "source": [
    "\n",
    "# Demo usage (for beginner understanding)\n",
    "if __name__ == \"__main__\":\n",
    "    print(\"--- Encapsulation ---\")\n",
    "    s = Student(\"Ali\", 21)\n",
    "    print(s.get_info())\n",
    "\n",
    "    print(\"\\n--- Abstraction ---\")\n",
    "    dog = Dog()\n",
    "    print(dog.make_sound())\n",
    "\n",
    "    print(\"\\n--- Inheritance ---\")\n",
    "    t = Teacher(\"Sara\")\n",
    "    print(t.greet())\n",
    "    print(t.teach())\n",
    "\n",
    "    print(\"\\n--- Polymorphism ---\")\n",
    "    b = Bird()\n",
    "    c = Cat()\n",
    "    print(animal_sound(b))\n",
    "    print(animal_sound(c))\n",
    "\n",
    "    print(\"\\n--- Composition ---\")\n",
    "    my_car = Car()\n",
    "    print(my_car.drive())\n",
    "\n",
    "    print(\"\\n--- Aggregation ---\")\n",
    "    dep1 = Department(\"CS\")\n",
    "    dep2 = Department(\"Math\")\n",
    "    uni = University([dep1, dep2])\n",
    "    print(uni.list_departments())"
   ]
  }
 ],
 "metadata": {
  "kernelspec": {
   "display_name": "Python 3",
   "language": "python",
   "name": "python3"
  },
  "language_info": {
   "codemirror_mode": {
    "name": "ipython",
    "version": 3
   },
   "file_extension": ".py",
   "mimetype": "text/x-python",
   "name": "python",
   "nbconvert_exporter": "python",
   "pygments_lexer": "ipython3",
   "version": "3.12.7"
  }
 },
 "nbformat": 4,
 "nbformat_minor": 5
}
